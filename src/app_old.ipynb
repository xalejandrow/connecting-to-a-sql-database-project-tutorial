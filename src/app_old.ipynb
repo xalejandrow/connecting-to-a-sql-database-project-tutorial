{
 "cells": [
  {
   "cell_type": "code",
   "execution_count": 1,
   "metadata": {},
   "outputs": [
    {
     "ename": "ModuleNotFoundError",
     "evalue": "No module named 'psycopg2'",
     "output_type": "error",
     "traceback": [
      "\u001b[0;31m---------------------------------------------------------------------------\u001b[0m",
      "\u001b[0;31mModuleNotFoundError\u001b[0m                       Traceback (most recent call last)",
      "\u001b[1;32m/workspace/connecting-to-a-sql-database-project-tutorial/src/app_old.ipynb Cell 1'\u001b[0m in \u001b[0;36m<cell line: 1>\u001b[0;34m()\u001b[0m\n\u001b[0;32m----> <a href='vscode-notebook-cell://xalejandrow-connectingt-z2yah6u2r04.ws-us47.gitpod.io/workspace/connecting-to-a-sql-database-project-tutorial/src/app_old.ipynb#ch0000000vscode-remote?line=0'>1</a>\u001b[0m \u001b[39mimport\u001b[39;00m \u001b[39mpsycopg2\u001b[39;00m\n\u001b[1;32m      <a href='vscode-notebook-cell://xalejandrow-connectingt-z2yah6u2r04.ws-us47.gitpod.io/workspace/connecting-to-a-sql-database-project-tutorial/src/app_old.ipynb#ch0000000vscode-remote?line=1'>2</a>\u001b[0m \u001b[39mimport\u001b[39;00m \u001b[39mpandas\u001b[39;00m \u001b[39mas\u001b[39;00m \u001b[39mpd\u001b[39;00m\n\u001b[1;32m      <a href='vscode-notebook-cell://xalejandrow-connectingt-z2yah6u2r04.ws-us47.gitpod.io/workspace/connecting-to-a-sql-database-project-tutorial/src/app_old.ipynb#ch0000000vscode-remote?line=3'>4</a>\u001b[0m conn \u001b[39m=\u001b[39m psycopg2\u001b[39m.\u001b[39mconnect(database\u001b[39m=\u001b[39m\u001b[39m'\u001b[39m\u001b[39md9v1k7oo2sg6ov\u001b[39m\u001b[39m'\u001b[39m, \n\u001b[1;32m      <a href='vscode-notebook-cell://xalejandrow-connectingt-z2yah6u2r04.ws-us47.gitpod.io/workspace/connecting-to-a-sql-database-project-tutorial/src/app_old.ipynb#ch0000000vscode-remote?line=4'>5</a>\u001b[0m                         user\u001b[39m=\u001b[39m\u001b[39m'\u001b[39m\u001b[39moxkaeubmnqxvxi\u001b[39m\u001b[39m'\u001b[39m, \n\u001b[1;32m      <a href='vscode-notebook-cell://xalejandrow-connectingt-z2yah6u2r04.ws-us47.gitpod.io/workspace/connecting-to-a-sql-database-project-tutorial/src/app_old.ipynb#ch0000000vscode-remote?line=5'>6</a>\u001b[0m                         password\u001b[39m=\u001b[39m\u001b[39m'\u001b[39m\u001b[39m26f907c61376056246af18a2d44bb8f5b861892ec63969926945ecae8e68deb4\u001b[39m\u001b[39m'\u001b[39m,\n\u001b[1;32m      <a href='vscode-notebook-cell://xalejandrow-connectingt-z2yah6u2r04.ws-us47.gitpod.io/workspace/connecting-to-a-sql-database-project-tutorial/src/app_old.ipynb#ch0000000vscode-remote?line=6'>7</a>\u001b[0m                         host\u001b[39m=\u001b[39m\u001b[39m'\u001b[39m\u001b[39mec2-18-214-134-226.compute-1.amazonaws.com\u001b[39m\u001b[39m'\u001b[39m,\n\u001b[1;32m      <a href='vscode-notebook-cell://xalejandrow-connectingt-z2yah6u2r04.ws-us47.gitpod.io/workspace/connecting-to-a-sql-database-project-tutorial/src/app_old.ipynb#ch0000000vscode-remote?line=7'>8</a>\u001b[0m                         port\u001b[39m=\u001b[39m\u001b[39m5432\u001b[39m)\n",
      "\u001b[0;31mModuleNotFoundError\u001b[0m: No module named 'psycopg2'"
     ]
    }
   ],
   "source": [
    "import psycopg2\n",
    "import pandas as pd\n",
    "\n",
    "conn = psycopg2.connect(database='d9v1k7oo2sg6ov', \n",
    "                        user='oxkaeubmnqxvxi', \n",
    "                        password='26f907c61376056246af18a2d44bb8f5b861892ec63969926945ecae8e68deb4',\n",
    "                        host='ec2-18-214-134-226.compute-1.amazonaws.com',\n",
    "                        port=5432)\n",
    "\n",
    "cursor = conn.cursor()\n",
    "df = pd.read_sql(\"SELECT * FROM Movies\",conn)\n",
    "conn.close()\n",
    "\n",
    "df"
   ]
  }
 ],
 "metadata": {
  "kernelspec": {
   "display_name": "Python 3.8.13 64-bit ('3.8.13')",
   "language": "python",
   "name": "python3"
  },
  "language_info": {
   "codemirror_mode": {
    "name": "ipython",
    "version": 3
   },
   "file_extension": ".py",
   "mimetype": "text/x-python",
   "name": "python",
   "nbconvert_exporter": "python",
   "pygments_lexer": "ipython3",
   "version": "3.8.13"
  },
  "orig_nbformat": 4,
  "vscode": {
   "interpreter": {
    "hash": "110cc1dee26208153f2972f08a2ad52b6a56238dc66d48e87fb757ef2996db56"
   }
  }
 },
 "nbformat": 4,
 "nbformat_minor": 2
}
